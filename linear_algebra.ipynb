{
  "nbformat": 4,
  "nbformat_minor": 0,
  "metadata": {
    "colab": {
      "name": "Copy of ml-lab-1.ipynb",
      "provenance": [],
      "authorship_tag": "ABX9TyODDldjtcL7S4MoPxOoHoWP",
      "include_colab_link": true
    },
    "kernelspec": {
      "name": "python3",
      "display_name": "Python 3"
    },
    "language_info": {
      "name": "python"
    }
  },
  "cells": [
    {
      "cell_type": "markdown",
      "metadata": {
        "id": "view-in-github",
        "colab_type": "text"
      },
      "source": [
        "<a href=\"https://colab.research.google.com/github/jukantirakeshkumar/machinelearning/blob/main/linear_algebra.ipynb\" target=\"_parent\"><img src=\"https://colab.research.google.com/assets/colab-badge.svg\" alt=\"Open In Colab\"/></a>"
      ]
    },
    {
      "cell_type": "code",
      "metadata": {
        "colab": {
          "base_uri": "https://localhost:8080/"
        },
        "id": "T0moQkkXchZB",
        "outputId": "34927e7f-eac9-4447-d637-49fee6174f7e"
      },
      "source": [
        "a=3\n",
        "a"
      ],
      "execution_count": null,
      "outputs": [
        {
          "output_type": "execute_result",
          "data": {
            "text/plain": [
              "3"
            ]
          },
          "metadata": {},
          "execution_count": 1
        }
      ]
    },
    {
      "cell_type": "code",
      "metadata": {
        "colab": {
          "base_uri": "https://localhost:8080/"
        },
        "id": "jqx59CWrdsKv",
        "outputId": "bcfc8373-5805-47b3-b3b1-368077d4c6b0"
      },
      "source": [
        "a+2"
      ],
      "execution_count": null,
      "outputs": [
        {
          "output_type": "execute_result",
          "data": {
            "text/plain": [
              "5"
            ]
          },
          "metadata": {},
          "execution_count": 2
        }
      ]
    },
    {
      "cell_type": "code",
      "metadata": {
        "colab": {
          "base_uri": "https://localhost:8080/"
        },
        "id": "-yEfc3Ohd1q9",
        "outputId": "53f06672-789f-488d-ab7a-f52d70526b9b"
      },
      "source": [
        "a=7.1\n",
        "a+2"
      ],
      "execution_count": null,
      "outputs": [
        {
          "output_type": "execute_result",
          "data": {
            "text/plain": [
              "9.1"
            ]
          },
          "metadata": {},
          "execution_count": 5
        }
      ]
    },
    {
      "cell_type": "code",
      "metadata": {
        "colab": {
          "base_uri": "https://localhost:8080/"
        },
        "id": "fzQCUeB8d9fk",
        "outputId": "9ba2806d-0904-4ab3-eccc-38b44ab99461"
      },
      "source": [
        "b=10\n",
        "a+b*2"
      ],
      "execution_count": null,
      "outputs": [
        {
          "output_type": "execute_result",
          "data": {
            "text/plain": [
              "27.1"
            ]
          },
          "metadata": {},
          "execution_count": 4
        }
      ]
    },
    {
      "cell_type": "code",
      "metadata": {
        "colab": {
          "base_uri": "https://localhost:8080/"
        },
        "id": "X1nvegFHeHPO",
        "outputId": "e6bf4b77-d556-415f-ec71-5ffaa35a788c"
      },
      "source": [
        "mike=17\n",
        "print(mike*b+1)\n",
        "print(mike**b)"
      ],
      "execution_count": null,
      "outputs": [
        {
          "output_type": "stream",
          "text": [
            "171\n",
            "2015993900449\n"
          ],
          "name": "stdout"
        }
      ]
    },
    {
      "cell_type": "code",
      "metadata": {
        "colab": {
          "base_uri": "https://localhost:8080/"
        },
        "id": "NAXUkLOIfJVg",
        "outputId": "607cf000-194a-46c2-e5cd-b7dbec647465"
      },
      "source": [
        "greeting = 'Hello'\n",
        "print(greeting)"
      ],
      "execution_count": null,
      "outputs": [
        {
          "output_type": "stream",
          "text": [
            "Hello\n"
          ],
          "name": "stdout"
        }
      ]
    },
    {
      "cell_type": "code",
      "metadata": {
        "colab": {
          "base_uri": "https://localhost:8080/"
        },
        "id": "SrR_CcZhfwsp",
        "outputId": "1aefa9d2-2d64-4b3c-dced-4d84af3e565c"
      },
      "source": [
        "msg='Hello, My name is '\n",
        "name='Rakesh'\n",
        "age= 18\n",
        "print(msg + name + '!')\n",
        "print('I am ' + str(age) + 'years old')"
      ],
      "execution_count": null,
      "outputs": [
        {
          "output_type": "stream",
          "text": [
            "Hello, My name is Rakesh!\n",
            "I am 18years old\n"
          ],
          "name": "stdout"
        }
      ]
    },
    {
      "cell_type": "code",
      "metadata": {
        "colab": {
          "base_uri": "https://localhost:8080/"
        },
        "id": "mWTwpaMmgot7",
        "outputId": "93893265-e8c8-4cbb-8a11-576d14b42bdd"
      },
      "source": [
        "list=[1,2,3,4]\n",
        "list"
      ],
      "execution_count": null,
      "outputs": [
        {
          "output_type": "execute_result",
          "data": {
            "text/plain": [
              "[1, 2, 3, 4]"
            ]
          },
          "metadata": {},
          "execution_count": 17
        }
      ]
    },
    {
      "cell_type": "code",
      "metadata": {
        "colab": {
          "base_uri": "https://localhost:8080/"
        },
        "id": "QSn0MONhgzgn",
        "outputId": "7feefb37-ad86-4de3-b3a1-cb8c9e655669"
      },
      "source": [
        "abs(-5)"
      ],
      "execution_count": null,
      "outputs": [
        {
          "output_type": "execute_result",
          "data": {
            "text/plain": [
              "5"
            ]
          },
          "metadata": {},
          "execution_count": 18
        }
      ]
    },
    {
      "cell_type": "code",
      "metadata": {
        "colab": {
          "base_uri": "https://localhost:8080/"
        },
        "id": "KKwvT6Gmg-3H",
        "outputId": "6ecee55c-0671-4bf0-9107-62826f16fd19"
      },
      "source": [
        "import numpy as np\n",
        "np.mean(list)"
      ],
      "execution_count": null,
      "outputs": [
        {
          "output_type": "execute_result",
          "data": {
            "text/plain": [
              "2.5"
            ]
          },
          "metadata": {},
          "execution_count": 23
        }
      ]
    },
    {
      "cell_type": "code",
      "metadata": {
        "colab": {
          "base_uri": "https://localhost:8080/"
        },
        "id": "1pXj3ArDhdG7",
        "outputId": "29c0623c-a83d-4efb-b9c8-b8de25351bcd"
      },
      "source": [
        "np.sqrt(4)"
      ],
      "execution_count": null,
      "outputs": [
        {
          "output_type": "execute_result",
          "data": {
            "text/plain": [
              "2.0"
            ]
          },
          "metadata": {},
          "execution_count": 22
        }
      ]
    },
    {
      "cell_type": "code",
      "metadata": {
        "colab": {
          "base_uri": "https://localhost:8080/"
        },
        "id": "EiKcw2G6hf-R",
        "outputId": "c7d6550b-224c-48b7-c29e-b1e2eaa89b78"
      },
      "source": [
        "np.linspace(1,10,7)"
      ],
      "execution_count": null,
      "outputs": [
        {
          "output_type": "execute_result",
          "data": {
            "text/plain": [
              "array([ 1. ,  2.5,  4. ,  5.5,  7. ,  8.5, 10. ])"
            ]
          },
          "metadata": {},
          "execution_count": 24
        }
      ]
    },
    {
      "cell_type": "code",
      "metadata": {
        "colab": {
          "base_uri": "https://localhost:8080/"
        },
        "id": "vuOLGrjhhylI",
        "outputId": "367c9fbb-b73e-40ab-9ab7-75f0a845890f"
      },
      "source": [
        "out=np.linspace(1,10,7)\n",
        "out \n"
      ],
      "execution_count": null,
      "outputs": [
        {
          "output_type": "execute_result",
          "data": {
            "text/plain": [
              "array([ 1. ,  2.5,  4. ,  5.5,  7. ,  8.5, 10. ])"
            ]
          },
          "metadata": {},
          "execution_count": 26
        }
      ]
    },
    {
      "cell_type": "code",
      "metadata": {
        "colab": {
          "base_uri": "https://localhost:8080/"
        },
        "id": "PxAUIHx_iEsw",
        "outputId": "69224ddb-c91b-40d0-d46d-4f01f7e4b765"
      },
      "source": [
        "out+2"
      ],
      "execution_count": null,
      "outputs": [
        {
          "output_type": "execute_result",
          "data": {
            "text/plain": [
              "array([ 3. ,  4.5,  6. ,  7.5,  9. , 10.5, 12. ])"
            ]
          },
          "metadata": {},
          "execution_count": 27
        }
      ]
    },
    {
      "cell_type": "code",
      "metadata": {
        "colab": {
          "base_uri": "https://localhost:8080/"
        },
        "id": "-OAQFTB1iLIc",
        "outputId": "00c21c53-d402-46d2-8a00-cf1438a3fa85"
      },
      "source": [
        "np.linspace(4,100,15)"
      ],
      "execution_count": null,
      "outputs": [
        {
          "output_type": "execute_result",
          "data": {
            "text/plain": [
              "array([  4.        ,  10.85714286,  17.71428571,  24.57142857,\n",
              "        31.42857143,  38.28571429,  45.14285714,  52.        ,\n",
              "        58.85714286,  65.71428571,  72.57142857,  79.42857143,\n",
              "        86.28571429,  93.14285714, 100.        ])"
            ]
          },
          "metadata": {},
          "execution_count": 28
        }
      ]
    },
    {
      "cell_type": "code",
      "metadata": {
        "id": "0uPveCAQiagV"
      },
      "source": [
        "import matplotlib.pyplot as plt\n",
        "import numpy as np\n"
      ],
      "execution_count": null,
      "outputs": []
    },
    {
      "cell_type": "code",
      "metadata": {
        "colab": {
          "base_uri": "https://localhost:8080/",
          "height": 282
        },
        "id": "JAVG220Oi0J1",
        "outputId": "00581b22-1803-4bf0-f942-f88f43d8c6b3"
      },
      "source": [
        "plt.plot(1,3)"
      ],
      "execution_count": null,
      "outputs": [
        {
          "output_type": "execute_result",
          "data": {
            "text/plain": [
              "[<matplotlib.lines.Line2D at 0x7f86bc808b50>]"
            ]
          },
          "metadata": {},
          "execution_count": 31
        },
        {
          "output_type": "display_data",
          "data": {
            "image/png": "[encoded data removed]",
            "text/plain": [
              "<Figure size 432x288 with 1 Axes>"
            ]
          },
          "metadata": {
            "needs_background": "light"
          }
        }
      ]
    },
    {
      "cell_type": "code",
      "metadata": {
        "colab": {
          "base_uri": "https://localhost:8080/",
          "height": 282
        },
        "id": "_GC0H1A6i8Vd",
        "outputId": "443c0549-96e3-492d-d841-26b0187e2913"
      },
      "source": [
        "plt.plot(1,3,'ro')"
      ],
      "execution_count": null,
      "outputs": [
        {
          "output_type": "execute_result",
          "data": {
            "text/plain": [
              "[<matplotlib.lines.Line2D at 0x7f86bc26e3d0>]"
            ]
          },
          "metadata": {},
          "execution_count": 33
        },
        {
          "output_type": "display_data",
          "data": {
            "image/png": "[encoded data removed]",
            "text/plain": [
              "<Figure size 432x288 with 1 Axes>"
            ]
          },
          "metadata": {
            "needs_background": "light"
          }
        }
      ]
    },
    {
      "cell_type": "code",
      "metadata": {
        "colab": {
          "base_uri": "https://localhost:8080/",
          "height": 282
        },
        "id": "NvohCEGOjHvh",
        "outputId": "337ac119-6671-4d5b-9c9d-4e2af88c4a49"
      },
      "source": [
        "plt.plot(1,3,'ko')"
      ],
      "execution_count": null,
      "outputs": [
        {
          "output_type": "execute_result",
          "data": {
            "text/plain": [
              "[<matplotlib.lines.Line2D at 0x7f86bc24eb90>]"
            ]
          },
          "metadata": {},
          "execution_count": 34
        },
        {
          "output_type": "display_data",
          "data": {
            "image/png": "[encoded data removed]",
            "text/plain": [
              "<Figure size 432x288 with 1 Axes>"
            ]
          },
          "metadata": {
            "needs_background": "light"
          }
        }
      ]
    },
    {
      "cell_type": "code",
      "metadata": {
        "colab": {
          "base_uri": "https://localhost:8080/",
          "height": 282
        },
        "id": "TW40w7xmjLbd",
        "outputId": "849c94a1-b286-42f0-875f-50bc8f410b06"
      },
      "source": [
        "x=np.arange(-9,10)\n",
        "print(x)\n",
        "y=x**2\n",
        "plt.plot(x,y,'r')\n",
        "plt.plot(x,y/2,'gs')\n",
        "plt.show()"
      ],
      "execution_count": null,
      "outputs": [
        {
          "output_type": "stream",
          "text": [
            "[-9 -8 -7 -6 -5 -4 -3 -2 -1  0  1  2  3  4  5  6  7  8  9]\n"
          ],
          "name": "stdout"
        },
        {
          "output_type": "display_data",
          "data": {
            "image/png": "[encoded data removed]",
            "text/plain": [
              "<Figure size 432x288 with 1 Axes>"
            ]
          },
          "metadata": {
            "needs_background": "light"
          }
        }
      ]
    },
    {
      "cell_type": "code",
      "metadata": {
        "colab": {
          "base_uri": "https://localhost:8080/",
          "height": 282
        },
        "id": "jR6h_Yy3jtSA",
        "outputId": "a18bd7c1-c416-4677-fa8b-2f893e9670a0"
      },
      "source": [
        "plt.plot([0,3],[-1,1])\n",
        "plt.show"
      ],
      "execution_count": null,
      "outputs": [
        {
          "output_type": "execute_result",
          "data": {
            "text/plain": [
              "<function matplotlib.pyplot.show>"
            ]
          },
          "metadata": {},
          "execution_count": 41
        },
        {
          "output_type": "display_data",
          "data": {
            "image/png": "[encoded data removed]",
            "text/plain": [
              "<Figure size 432x288 with 1 Axes>"
            ]
          },
          "metadata": {
            "needs_background": "light"
          }
        }
      ]
    },
    {
      "cell_type": "code",
      "metadata": {
        "colab": {
          "base_uri": "https://localhost:8080/",
          "height": 282
        },
        "id": "qE7Sto01j9aX",
        "outputId": "0df0325e-0760-4588-e7ac-4f0e3a54bf48"
      },
      "source": [
        "plt.plot([0,3],[-1,1],label='first line')\n",
        "plt.plot([-2,0],[-4,1],label='second line')\n",
        "plt.legend()"
      ],
      "execution_count": null,
      "outputs": [
        {
          "output_type": "execute_result",
          "data": {
            "text/plain": [
              "<matplotlib.legend.Legend at 0x7f86bbe850d0>"
            ]
          },
          "metadata": {},
          "execution_count": 45
        },
        {
          "output_type": "display_data",
          "data": {
            "image/png": "[encoded data removed]",
            "text/plain": [
              "<Figure size 432x288 with 1 Axes>"
            ]
          },
          "metadata": {
            "needs_background": "light"
          }
        }
      ]
    },
    {
      "cell_type": "code",
      "metadata": {
        "colab": {
          "base_uri": "https://localhost:8080/"
        },
        "id": "qIIhr50rkiYC",
        "outputId": "e36d9e50-b240-4ab9-b602-71022860129f"
      },
      "source": [
        "M = np.random.randint(0,10,size=(4,5))\n",
        "M"
      ],
      "execution_count": null,
      "outputs": [
        {
          "output_type": "execute_result",
          "data": {
            "text/plain": [
              "array([[9, 9, 5, 6, 4],\n",
              "       [1, 9, 9, 4, 6],\n",
              "       [7, 0, 2, 2, 0],\n",
              "       [1, 3, 2, 9, 2]])"
            ]
          },
          "metadata": {},
          "execution_count": 46
        }
      ]
    },
    {
      "cell_type": "code",
      "metadata": {
        "colab": {
          "base_uri": "https://localhost:8080/",
          "height": 286
        },
        "id": "Opf_nB1Ik0Hu",
        "outputId": "5a1b5455-da0a-4b30-bb8c-c445d1f60d7f"
      },
      "source": [
        "plt.imshow(M)"
      ],
      "execution_count": null,
      "outputs": [
        {
          "output_type": "execute_result",
          "data": {
            "text/plain": [
              "<matplotlib.image.AxesImage at 0x7f86bbd9c810>"
            ]
          },
          "metadata": {},
          "execution_count": 47
        },
        {
          "output_type": "display_data",
          "data": {
            "image/png": "[encoded data removed]",
            "text/plain": [
              "<Figure size 432x288 with 1 Axes>"
            ]
          },
          "metadata": {
            "needs_background": "light"
          }
        }
      ]
    },
    {
      "cell_type": "code",
      "metadata": {
        "colab": {
          "base_uri": "https://localhost:8080/"
        },
        "id": "4FjcGk4-lA8K",
        "outputId": "8d965053-d016-4784-a925-8295f4767992"
      },
      "source": [
        "vec=[3,4,5,2]\n",
        "s=2\n",
        "vec*s"
      ],
      "execution_count": null,
      "outputs": [
        {
          "output_type": "execute_result",
          "data": {
            "text/plain": [
              "[3, 4, 5, 2, 3, 4, 5, 2]"
            ]
          },
          "metadata": {},
          "execution_count": 48
        }
      ]
    },
    {
      "cell_type": "code",
      "metadata": {
        "colab": {
          "base_uri": "https://localhost:8080/"
        },
        "id": "1ZWRsRpflXvH",
        "outputId": "3b1d0fd0-76d3-4949-9694-1a235e5ed190"
      },
      "source": [
        "vec=np.array([3,4,5,2])\n",
        "s=2\n",
        "vec*s"
      ],
      "execution_count": null,
      "outputs": [
        {
          "output_type": "execute_result",
          "data": {
            "text/plain": [
              "array([ 6,  8, 10,  4])"
            ]
          },
          "metadata": {},
          "execution_count": 50
        }
      ]
    },
    {
      "cell_type": "code",
      "metadata": {
        "colab": {
          "base_uri": "https://localhost:8080/"
        },
        "id": "0hOU8rTwlph6",
        "outputId": "bcbc6358-8822-47de-9118-d36f323c18ef"
      },
      "source": [
        "vec2d=np.array([1,2])\n",
        "s1=2\n",
        "s2=-5\n",
        "s3=-1\n",
        "vec2d[0]"
      ],
      "execution_count": null,
      "outputs": [
        {
          "output_type": "execute_result",
          "data": {
            "text/plain": [
              "1"
            ]
          },
          "metadata": {},
          "execution_count": 53
        }
      ]
    },
    {
      "cell_type": "code",
      "metadata": {
        "colab": {
          "base_uri": "https://localhost:8080/",
          "height": 282
        },
        "id": "8X2bpeoEl_-d",
        "outputId": "fc6fe3ec-cf4e-4fba-d291-24f662e7b3c7"
      },
      "source": [
        "plt.plot([0,vec2d[0]],[0,vec2d[1]],'bs--')"
      ],
      "execution_count": null,
      "outputs": [
        {
          "output_type": "execute_result",
          "data": {
            "text/plain": [
              "[<matplotlib.lines.Line2D at 0x7f86bc11c9d0>]"
            ]
          },
          "metadata": {},
          "execution_count": 57
        },
        {
          "output_type": "display_data",
          "data": {
            "image/png": "[encoded data removed]",
            "text/plain": [
              "<Figure size 432x288 with 1 Axes>"
            ]
          },
          "metadata": {
            "needs_background": "light"
          }
        }
      ]
    },
    {
      "cell_type": "code",
      "metadata": {
        "colab": {
          "base_uri": "https://localhost:8080/",
          "height": 286
        },
        "id": "oNEplioYmHI7",
        "outputId": "6b30a97f-419e-450f-c126-5d3934010d1c"
      },
      "source": [
        "plt.plot([0,vec2d[0]],[0,vec2d[1]],'bs-',label='v')\n",
        "plt.plot([0,s1*vec2d[0]],[0,s1*vec2d[1]],'ro-',label='v*s1')\n",
        "plt.plot([0,s2*vec2d[0]],[0,s2*vec2d[1]],'kp-',label='v*s2')\n",
        "plt.plot([0,s3*vec2d[0]],[0,s3*vec2d[1]],'g-',label='v*s3')\n",
        "\n",
        "plt.axis('square')\n",
        "plt.xlim([-4,4])\n",
        "plt.ylim([-4,4])\n",
        "plt.grid()\n",
        "plt.legend()\n",
        "plt.show"
      ],
      "execution_count": null,
      "outputs": [
        {
          "output_type": "execute_result",
          "data": {
            "text/plain": [
              "<function matplotlib.pyplot.show>"
            ]
          },
          "metadata": {},
          "execution_count": 58
        },
        {
          "output_type": "display_data",
          "data": {
            "image/png": "[encoded data removed]",
            "text/plain": [
              "<Figure size 432x288 with 1 Axes>"
            ]
          },
          "metadata": {
            "needs_background": "light"
          }
        }
      ]
    },
    {
      "cell_type": "code",
      "metadata": {
        "colab": {
          "base_uri": "https://localhost:8080/"
        },
        "id": "19KMuFEMntPH",
        "outputId": "f3bdd1c9-9a61-4f91-fb4f-df157f075d64"
      },
      "source": [
        "v1=np.array([4,5,6,2])\n",
        "v2=np.array([-4,3,0,5])\n",
        "np.dot(v1,v2)"
      ],
      "execution_count": null,
      "outputs": [
        {
          "output_type": "execute_result",
          "data": {
            "text/plain": [
              "9"
            ]
          },
          "metadata": {},
          "execution_count": 59
        }
      ]
    },
    {
      "cell_type": "code",
      "metadata": {
        "colab": {
          "base_uri": "https://localhost:8080/"
        },
        "id": "PDdvFazkn_Iz",
        "outputId": "f9f83783-23df-4289-f395-dd5787baa5ff"
      },
      "source": [
        "v3=np.array([-4,3,1,6])\n",
        "np.dot(v3,v2)"
      ],
      "execution_count": null,
      "outputs": [
        {
          "output_type": "execute_result",
          "data": {
            "text/plain": [
              "55"
            ]
          },
          "metadata": {},
          "execution_count": 60
        }
      ]
    },
    {
      "cell_type": "code",
      "metadata": {
        "colab": {
          "base_uri": "https://localhost:8080/"
        },
        "id": "gO2uZFpCoMDj",
        "outputId": "c43a430d-69fe-4817-feea-e2648454825f"
      },
      "source": [
        "v4=np.array([1,2,3,4])\n",
        "np.dot(v3,v4)"
      ],
      "execution_count": null,
      "outputs": [
        {
          "output_type": "execute_result",
          "data": {
            "text/plain": [
              "29"
            ]
          },
          "metadata": {},
          "execution_count": 61
        }
      ]
    },
    {
      "cell_type": "code",
      "metadata": {
        "colab": {
          "base_uri": "https://localhost:8080/"
        },
        "id": "HV-oZllCocsa",
        "outputId": "db3582e8-c362-4207-901d-da4ad87a30c2"
      },
      "source": [
        "np.eye(3)"
      ],
      "execution_count": null,
      "outputs": [
        {
          "output_type": "execute_result",
          "data": {
            "text/plain": [
              "array([[1., 0., 0.],\n",
              "       [0., 1., 0.],\n",
              "       [0., 0., 1.]])"
            ]
          },
          "metadata": {},
          "execution_count": 62
        }
      ]
    },
    {
      "cell_type": "code",
      "metadata": {
        "colab": {
          "base_uri": "https://localhost:8080/"
        },
        "id": "tRAYIvzLoo0k",
        "outputId": "ecd5444d-b20c-4fd0-9ca6-24563a83e445"
      },
      "source": [
        "np.zeros((3,4))"
      ],
      "execution_count": null,
      "outputs": [
        {
          "output_type": "execute_result",
          "data": {
            "text/plain": [
              "array([[0., 0., 0., 0.],\n",
              "       [0., 0., 0., 0.],\n",
              "       [0., 0., 0., 0.]])"
            ]
          },
          "metadata": {},
          "execution_count": 64
        }
      ]
    },
    {
      "cell_type": "code",
      "metadata": {
        "colab": {
          "base_uri": "https://localhost:8080/"
        },
        "id": "apAkaluQo1aU",
        "outputId": "84d218eb-c080-4860-e0ab-1f061accfeb9"
      },
      "source": [
        "np.full((5,2),7)"
      ],
      "execution_count": null,
      "outputs": [
        {
          "output_type": "execute_result",
          "data": {
            "text/plain": [
              "array([[7, 7],\n",
              "       [7, 7],\n",
              "       [7, 7],\n",
              "       [7, 7],\n",
              "       [7, 7]])"
            ]
          },
          "metadata": {},
          "execution_count": 65
        }
      ]
    },
    {
      "cell_type": "code",
      "metadata": {
        "colab": {
          "base_uri": "https://localhost:8080/"
        },
        "id": "LGVrB4T5o8fY",
        "outputId": "60c3739c-ab09-4ad4-c0e8-c02daab5ef0f"
      },
      "source": [
        "N=np.array([[1,2,3],\n",
        "           [4,5,6],\n",
        "           [7,8,9]])\n",
        "print(N )"
      ],
      "execution_count": null,
      "outputs": [
        {
          "output_type": "stream",
          "text": [
            "[[1 2 3]\n",
            " [4 5 6]\n",
            " [7 8 9]]\n"
          ],
          "name": "stdout"
        }
      ]
    },
    {
      "cell_type": "code",
      "metadata": {
        "colab": {
          "base_uri": "https://localhost:8080/"
        },
        "id": "4RbmNwAQpfcw",
        "outputId": "9138916b-546a-4ae7-c84d-88a269d1fc5c"
      },
      "source": [
        "w=np.array([2,3,-1],ndmin=2) \n",
        "\n",
        "print(w)\n",
        "print('')\n",
        "print(w.T)"
      ],
      "execution_count": null,
      "outputs": [
        {
          "output_type": "stream",
          "text": [
            "[[ 2  3 -1]]\n",
            "\n",
            "[[ 2]\n",
            " [ 3]\n",
            " [-1]]\n"
          ],
          "name": "stdout"
        }
      ]
    },
    {
      "cell_type": "code",
      "metadata": {
        "colab": {
          "base_uri": "https://localhost:8080/"
        },
        "id": "EnnrbDtpqKzc",
        "outputId": "d36958cb-024b-4220-edcd-9691c32ec30d"
      },
      "source": [
        "A=np.random.randn(3,3)\n",
        "print(A)"
      ],
      "execution_count": null,
      "outputs": [
        {
          "output_type": "stream",
          "text": [
            "[[-1.44255122  0.0572553  -0.23742005]\n",
            " [-0.75012197  0.67136156  1.89777727]\n",
            " [ 1.50102948  0.84294827  0.36203057]]\n"
          ],
          "name": "stdout"
        }
      ]
    },
    {
      "cell_type": "code",
      "metadata": {
        "colab": {
          "base_uri": "https://localhost:8080/"
        },
        "id": "Uhbb8BW7qmTk",
        "outputId": "c2b93365-6744-47a0-afda-0a020125ba96"
      },
      "source": [
        "A= np.round(np.random.randn(3,3)) \n",
        "print(A)\n"
      ],
      "execution_count": null,
      "outputs": [
        {
          "output_type": "stream",
          "text": [
            "[[0. 1. 2.]\n",
            " [1. 0. 0.]\n",
            " [2. 0. 1.]]\n"
          ],
          "name": "stdout"
        }
      ]
    },
    {
      "cell_type": "code",
      "metadata": {
        "colab": {
          "base_uri": "https://localhost:8080/"
        },
        "id": "XeS-Eh0wqqAn",
        "outputId": "ba5f8a23-bbd5-4241-bbeb-1550bc75b46e"
      },
      "source": [
        "M1 = np.random.randn(4,5)\n",
        "M2 = np.random.randn(4,5)\n",
        "\n",
        "print(np.matmul(M1,M2.T))\n",
        "print('')\n",
        "print(M1@M2.T)\n",
        "print('')\n",
        "print(np.matmul(M1,M2.T)-(M1@M2.T) )"
      ],
      "execution_count": null,
      "outputs": [
        {
          "output_type": "stream",
          "text": [
            "[[-0.92078109  0.02789154 -0.47620054  0.9548951 ]\n",
            " [ 4.22585186  2.24076778  0.00777386 -5.96711262]\n",
            " [-1.7306842  -0.21236701 -2.87620147  0.77949076]\n",
            " [-4.07736669  0.47827185  1.30568061  2.86201182]]\n",
            "\n",
            "[[-0.92078109  0.02789154 -0.47620054  0.9548951 ]\n",
            " [ 4.22585186  2.24076778  0.00777386 -5.96711262]\n",
            " [-1.7306842  -0.21236701 -2.87620147  0.77949076]\n",
            " [-4.07736669  0.47827185  1.30568061  2.86201182]]\n",
            "\n",
            "[[0. 0. 0. 0.]\n",
            " [0. 0. 0. 0.]\n",
            " [0. 0. 0. 0.]\n",
            " [0. 0. 0. 0.]]\n"
          ],
          "name": "stdout"
        }
      ]
    },
    {
      "cell_type": "code",
      "metadata": {
        "colab": {
          "base_uri": "https://localhost:8080/"
        },
        "id": "6qXTW417rjsv",
        "outputId": "088e0ef3-3fa3-42f6-c34a-7deeb3305045"
      },
      "source": [
        "S=np.random.randn(4,4)\n",
        "Sinv = np.linalg.inv(S)\n",
        " \n",
        "Sinvs=S@Sinv\n",
        "\n",
        "print(S)\n",
        "print('')\n",
        "print(Sinv)\n",
        "print('')\n",
        "print(Sinvs)\n"
      ],
      "execution_count": null,
      "outputs": [
        {
          "output_type": "stream",
          "text": [
            "[[ 0.41141311 -1.43028445  0.12292096  1.13946632]\n",
            " [ 0.29520759 -0.92282482  1.154613    1.07273325]\n",
            " [ 0.60900167 -0.93768153  0.93468805  1.09913233]\n",
            " [-0.33986928  0.86153572  0.84796591 -0.86147442]]\n",
            "\n",
            "[[ 0.22366689 -3.22482977  3.39693509  0.6142492 ]\n",
            " [-2.64516834  1.20889827  0.30728386 -1.60133512]\n",
            " [ 0.19242759  0.18361289  0.17586124  0.70753951]\n",
            " [-2.54418753  2.6619793  -0.85975102 -2.3081387 ]]\n",
            "\n",
            "[[ 1.00000000e+00 -1.64238014e-16 -1.93973827e-16 -2.03618679e-16]\n",
            " [ 6.00338818e-16  1.00000000e+00 -2.34981375e-17  5.29163179e-16]\n",
            " [-2.17189958e-16 -6.22612148e-16  1.00000000e+00  1.87211887e-16]\n",
            " [-1.04257352e-16  1.46168416e-16  9.20130769e-17  1.00000000e+00]]\n"
          ],
          "name": "stdout"
        }
      ]
    },
    {
      "cell_type": "code",
      "metadata": {
        "colab": {
          "base_uri": "https://localhost:8080/",
          "height": 183
        },
        "id": "x68Ma3TEs5uh",
        "outputId": "4de68679-e7e0-4829-9c1f-50a35de1ff29"
      },
      "source": [
        "fig,ax=plt.subplots(1,3,figsize=(6,5))\n",
        "\n",
        "ax[0].imshow(S)\n",
        "ax[0].set_title('S')\n",
        "\n",
        "ax[1].imshow(Sinv)\n",
        "ax[1].set_title('S$^{-1}$')\n",
        "\n",
        "ax[2].imshow(Sinvs)\n",
        "ax[2].set_title('S$^{-1}$S')"
      ],
      "execution_count": null,
      "outputs": [
        {
          "output_type": "execute_result",
          "data": {
            "text/plain": [
              "Text(0.5, 1.0, 'S$^{-1}$S')"
            ]
          },
          "metadata": {},
          "execution_count": 97
        },
        {
          "output_type": "display_data",
          "data": {
            "image/png": "[encoded data removed]",
            "text/plain": [
              "<Figure size 432x360 with 3 Axes>"
            ]
          },
          "metadata": {
            "needs_background": "light"
          }
        }
      ]
    },
    {
      "cell_type": "code",
      "metadata": {
        "id": "gOPcM1w6ttet"
      },
      "source": [
        ""
      ],
      "execution_count": null,
      "outputs": []
    }
  ]
}